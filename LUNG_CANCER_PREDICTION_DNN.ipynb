{
  "cells": [
    {
      "cell_type": "code",
      "execution_count": null,
      "metadata": {
        "id": "d88h6ZHCAUeK"
      },
      "outputs": [],
      "source": [
        "import pandas as pd\n",
        "import numpy as np\n",
        "import matplotlib.pyplot as plt\n",
        "import seaborn as sns\n",
        "from sklearn.model_selection import train_test_split\n",
        "from sklearn.preprocessing import MinMaxScaler, Normalizer"
      ]
    },
    {
      "cell_type": "markdown",
      "metadata": {
        "id": "Tye-IEkfCvBB"
      },
      "source": [
        "avoiding unneccessary warnings"
      ]
    },
    {
      "cell_type": "code",
      "execution_count": null,
      "metadata": {
        "id": "rVJ2ufY6C37x"
      },
      "outputs": [],
      "source": [
        "import warnings\n",
        "warnings.filterwarnings(\"ignore\")"
      ]
    },
    {
      "cell_type": "markdown",
      "metadata": {
        "id": "yeANlGTzC8mB"
      },
      "source": [
        "reading the file "
      ]
    },
    {
      "cell_type": "code",
      "execution_count": null,
      "metadata": {
        "id": "mfHCQO-oC-R5"
      },
      "outputs": [],
      "source": [
        "cancer_data = pd.read_csv('/content/drive/MyDrive/lungcancer_patient_datasets.csv')\n",
        "cancer_data.drop([\"index\", \"Patient Id\",\"Age\"], axis=1, inplace = True)\n",
        "cancer_data.head(5)"
      ]
    },
    {
      "cell_type": "markdown",
      "metadata": {
        "id": "NF_1o_Zwnmwu"
      },
      "source": [
        "data cleaning & visualisation"
      ]
    },
    {
      "cell_type": "code",
      "execution_count": null,
      "metadata": {
        "id": "bWvU3x3gnn7r"
      },
      "outputs": [],
      "source": [
        "cancer_data.isnull().sum()"
      ]
    },
    {
      "cell_type": "code",
      "execution_count": null,
      "metadata": {
        "id": "BqU_ZCf6k98M"
      },
      "outputs": [],
      "source": [
        "from google.colab import drive\n",
        "drive.mount('/content/drive')"
      ]
    },
    {
      "cell_type": "markdown",
      "metadata": {
        "id": "6BPIccTaYNg2"
      },
      "source": [
        "finding & counting the dataset"
      ]
    },
    {
      "cell_type": "code",
      "execution_count": null,
      "metadata": {
        "id": "TAClmLpBYQyh"
      },
      "outputs": [],
      "source": [
        "find_features = cancer_data.columns.tolist()[:-1]  \n",
        "print(\"Features:\", find_features)\n",
        "count_features = len(cancer_data.columns)-1\n",
        "print(\"Number of features in the dataset:\", count_features)"
      ]
    },
    {
      "cell_type": "code",
      "execution_count": null,
      "metadata": {
        "id": "Azcat1bILShS"
      },
      "outputs": [],
      "source": [
        "cancer_data.dtypes #datatypes"
      ]
    },
    {
      "cell_type": "code",
      "execution_count": null,
      "metadata": {
        "id": "d-VBzwsNqg1U"
      },
      "outputs": [],
      "source": [
        "cancer_data['Level'].value_counts() #cancer risk count"
      ]
    },
    {
      "cell_type": "code",
      "execution_count": null,
      "metadata": {
        "id": "DQrqc9OTqv7J"
      },
      "outputs": [],
      "source": [
        "cancer_data['Level'].replace(to_replace = 'Low', value = 0, inplace = True)\n",
        "cancer_data['Level'].replace(to_replace = 'Medium', value = 1, inplace = True)\n",
        "cancer_data['Level'].replace(to_replace = 'High', value = 2, inplace = True)\n",
        "\n",
        "cancer_data['Level'].value_counts()"
      ]
    },
    {
      "cell_type": "markdown",
      "metadata": {
        "id": "IOj5adcRIKVA"
      },
      "source": [
        "checking for missing values like whether data is available or not for all labels"
      ]
    },
    {
      "cell_type": "code",
      "execution_count": null,
      "metadata": {
        "id": "PO7WhZIwiSGv"
      },
      "outputs": [],
      "source": [
        "if cancer_data.isnull().values.any():\n",
        "    print('Missing values are present')\n",
        "else:\n",
        "    print('No missing values')"
      ]
    },
    {
      "cell_type": "markdown",
      "metadata": {
        "id": "2mdFD6e9KJJP"
      },
      "source": [
        "Feature distribution"
      ]
    },
    {
      "cell_type": "code",
      "execution_count": null,
      "metadata": {
        "id": "XEL1lUtiKJoP"
      },
      "outputs": [],
      "source": [
        "cancer_data.hist(figsize=(15,12),bins = 15)\n",
        "plt.title(\"Features Distribution\")\n",
        "plt.show()"
      ]
    },
    {
      "cell_type": "markdown",
      "metadata": {
        "id": "oi95F0mRxuUI"
      },
      "source": [
        "targetting the specific values"
      ]
    },
    {
      "cell_type": "code",
      "execution_count": null,
      "metadata": {
        "id": "cvVAJSUVx1xS"
      },
      "outputs": [],
      "source": [
        "cancer_data.Level.unique()"
      ]
    },
    {
      "cell_type": "markdown",
      "metadata": {
        "id": "Vhcv8vPwE87Y"
      },
      "source": [
        "correlation among data"
      ]
    },
    {
      "cell_type": "code",
      "execution_count": null,
      "metadata": {
        "id": "Zw_mIrCCE-v3"
      },
      "outputs": [],
      "source": [
        "# compute correlation matrix\n",
        "corr_matrix = cancer_data.corr()\n",
        "corr_matrix"
      ]
    },
    {
      "cell_type": "markdown",
      "metadata": {
        "id": "8PtW_kHV2o4A"
      },
      "source": [
        "box plot against the levels"
      ]
    },
    {
      "cell_type": "code",
      "execution_count": null,
      "metadata": {
        "id": "dkeKuUPp2pb_"
      },
      "outputs": [],
      "source": [
        "fig,ax = plt.subplots(nrows = 8, ncols=3, figsize=(30,30))\n",
        "row = 0\n",
        "col = 0\n",
        "for i in range(len(cancer_data.columns)-1):\n",
        "    if col > 2:\n",
        "        row += 1\n",
        "        col = 0\n",
        "    axes = ax[row,col]\n",
        "    sns.boxplot(x = cancer_data['Level'], y = cancer_data[cancer_data.columns[i]],ax = axes)\n",
        "    col += 1\n",
        "plt.tight_layout()\n",
        "plt.show()"
      ]
    },
    {
      "cell_type": "markdown",
      "metadata": {
        "id": "DU96q91Q5V83"
      },
      "source": [
        "dividing the data"
      ]
    },
    {
      "cell_type": "code",
      "execution_count": null,
      "metadata": {
        "id": "qVk2cwf05Wf_"
      },
      "outputs": [],
      "source": [
        "X = cancer_data.drop(['Level'],axis=1)\n",
        "y = cancer_data['Level']\n",
        "print(X)\n",
        "print(y)"
      ]
    },
    {
      "cell_type": "markdown",
      "metadata": {
        "id": "X6Mvc5BZkHLv"
      },
      "source": [
        "Below graph shows the distribution of the \"Gender\" for each value of the \"Level\" in separate subplots of the same size."
      ]
    },
    {
      "cell_type": "code",
      "execution_count": null,
      "metadata": {
        "id": "ursBIW1HkHjM"
      },
      "outputs": [],
      "source": [
        "seaborn1 = sns.FacetGrid(cancer_data, col = \"Level\", height = 3)\n",
        "seaborn1.map(sns.distplot, \"Gender\")"
      ]
    },
    {
      "cell_type": "markdown",
      "metadata": {
        "id": "MBjAu2J9kh3z"
      },
      "source": [
        "pie chart for getting the chances of lung cancer due to air pollution"
      ]
    },
    {
      "cell_type": "code",
      "execution_count": null,
      "metadata": {
        "id": "qGBa-j8AkiPg"
      },
      "outputs": [],
      "source": [
        "plt.figure(figsize = (5,5))\n",
        "plt.title(\"Lung Cancer Chances Due to Air Polution\")\n",
        "plt.pie(cancer_data['Level'].value_counts(), explode = (0.1, 0.02, 0.02), labels = ['High', 'Medium', 'Low'], autopct = \"%1.2f%%\", shadow = True)\n",
        "plt.legend(title = \"Lung Cancer rates\", loc = \"lower left\")"
      ]
    },
    {
      "cell_type": "markdown",
      "metadata": {
        "id": "J8nUtGH65rNX"
      },
      "source": [
        "splitting the data for training and testing "
      ]
    },
    {
      "cell_type": "code",
      "execution_count": null,
      "metadata": {
        "id": "NHFiOvWc5rjH"
      },
      "outputs": [],
      "source": [
        "from sklearn.model_selection import train_test_split\n",
        "X_train, X_test, y_train, y_test = train_test_split(X, y, test_size = 0.33, random_state = 50)\n",
        "\n",
        "# Split the training set into training and validation sets\n",
        "X_train, X_val, y_train, y_val = train_test_split(X_train, y_train, test_size=0.25, random_state=42)\n",
        "# print(X_val)"
      ]
    },
    {
      "cell_type": "markdown",
      "metadata": {
        "id": "zvgnNCpdEDbE"
      },
      "source": [
        "normalize the data"
      ]
    },
    {
      "cell_type": "code",
      "execution_count": null,
      "metadata": {
        "id": "JUY1rw4jEEf9"
      },
      "outputs": [],
      "source": [
        "from sklearn.preprocessing import StandardScaler\n",
        "sc = StandardScaler()\n",
        "X_train = sc.fit_transform(X_train)\n",
        "X_test = sc.transform(X_test)\n"
      ]
    },
    {
      "cell_type": "markdown",
      "metadata": {
        "id": "uSjWa_jtt-RA"
      },
      "source": [
        "Tuning the hyperparameters"
      ]
    },
    {
      "cell_type": "code",
      "execution_count": null,
      "metadata": {
        "id": "OdBS-C6fpUGj"
      },
      "outputs": [],
      "source": [
        "from sklearn.neural_network import MLPClassifier\n",
        "from sklearn.model_selection import GridSearchCV\n",
        "\n",
        "# Define the MLPClassifier model\n",
        "mlp = MLPClassifier()\n",
        "\n",
        "# Define the hyperparameters to be tuned\n",
        "param_grid = {\n",
        "    'hidden_layer_sizes': [(50,), (100,), (50, 50), (100, 100)],\n",
        "    'activation': ['relu', 'tanh', 'logistic'],\n",
        "    'solver': ['sgd', 'adam'],\n",
        "    'learning_rate': ['constant', 'adaptive'],\n",
        "    'alpha': [0.0001, 0.001, 0.01, 0.1],\n",
        "    'random_state': [42,32,50]\n",
        "}\n",
        "\n",
        "# Use GridSearchCV to find the best hyperparameters\n",
        "grid_search = GridSearchCV(mlp, param_grid, cv=5)\n",
        "grid_search.fit(X_train, y_train)\n",
        "\n",
        "# Print the best hyperparameters\n",
        "print(\"Best hyperparameters:\", grid_search.best_params_)\n",
        "\n",
        "# Evaluate the performance of the model on the testing set\n",
        "accuracy = grid_search.score(X_test, y_test)\n",
        "print(\"Accuracy on testing set:\", accuracy)"
      ]
    },
    {
      "cell_type": "markdown",
      "metadata": {
        "id": "a_TpHkpsuDTS"
      },
      "source": [
        "Training the MODEL"
      ]
    },
    {
      "cell_type": "code",
      "execution_count": 21,
      "metadata": {
        "colab": {
          "base_uri": "https://localhost:8080/"
        },
        "id": "yCJLqea4uETi",
        "outputId": "418ddd49-9e99-46ca-c553-d965a98f0ba1"
      },
      "outputs": [
        {
          "output_type": "stream",
          "name": "stdout",
          "text": [
            "Output layer function: softmax\n",
            "1.0\n"
          ]
        }
      ],
      "source": [
        "from sklearn.neural_network import MLPClassifier\n",
        "from sklearn.metrics import accuracy_score\n",
        "mlp = MLPClassifier(hidden_layer_sizes=(100,),activation='relu', solver='adam',alpha=0.0001,learning_rate ='constant',max_iter=1000,random_state=50)\n",
        "mlp.fit(X_train, y_train)\n",
        "print(\"Output layer function:\",mlp.out_activation_)\n",
        "test_score = mlp.score(X_test, y_test)\n",
        "print(test_score)"
      ]
    },
    {
      "cell_type": "code",
      "execution_count": 22,
      "metadata": {
        "colab": {
          "base_uri": "https://localhost:8080/"
        },
        "id": "b8rjhUVYYSBq",
        "outputId": "4c2c15f2-4b6c-45df-8b2d-220af64e1076"
      },
      "outputs": [
        {
          "output_type": "stream",
          "name": "stdout",
          "text": [
            "Validation accuracy after fine-tuning: 1.0\n"
          ]
        }
      ],
      "source": [
        "# fine-tune model on validation set\n",
        "mlp.fit(X_val, y_val)\n",
        "# evaluate fine-tuned model on validation set\n",
        "val_accuracy = mlp.score(X_val, y_val)\n",
        "print(\"Validation accuracy after fine-tuning:\", val_accuracy)"
      ]
    },
    {
      "cell_type": "code",
      "execution_count": 23,
      "metadata": {
        "colab": {
          "base_uri": "https://localhost:8080/"
        },
        "id": "AyyRcfqGc0jZ",
        "outputId": "498683a7-6a72-4c02-a710-c6ea59319fd2"
      },
      "outputs": [
        {
          "output_type": "stream",
          "name": "stdout",
          "text": [
            "test accuracy after fine-tuning: 1.0\n"
          ]
        }
      ],
      "source": [
        "# fine-tune model on test set\n",
        "mlp.fit(X_test, y_test)\n",
        "# evaluate fine-tuned model on test set\n",
        "test_accuracy = mlp.score(X_test, y_test)\n",
        "print(\"test accuracy after fine-tuning:\", test_accuracy)"
      ]
    },
    {
      "cell_type": "markdown",
      "metadata": {
        "id": "4KWxzHRCU5-L"
      },
      "source": [
        "prediction"
      ]
    },
    {
      "cell_type": "code",
      "execution_count": 24,
      "metadata": {
        "id": "siw7PUGGU6mV"
      },
      "outputs": [],
      "source": [
        "y_pred = mlp.predict(X_test)"
      ]
    },
    {
      "cell_type": "markdown",
      "metadata": {
        "id": "3NaeWEaXTS86"
      },
      "source": [
        "K-fold cross validation"
      ]
    },
    {
      "cell_type": "code",
      "execution_count": 32,
      "metadata": {
        "colab": {
          "base_uri": "https://localhost:8080/"
        },
        "id": "rahRiPjxTR-z",
        "outputId": "fc269e51-1738-4685-b039-b9cd84e254c6"
      },
      "outputs": [
        {
          "output_type": "stream",
          "name": "stdout",
          "text": [
            "training score: 1.0\n",
            "Validation accuracy after fine-tuning: 1.0\n",
            "Test accuracy after fine-tuning: 1.0\n",
            "Fold 1: Test accuracy: 1.0\n",
            "********************\n",
            "\n",
            "training score: 1.0\n",
            "Validation accuracy after fine-tuning: 1.0\n",
            "Test accuracy after fine-tuning: 1.0\n",
            "Fold 2: Test accuracy: 1.0\n",
            "********************\n",
            "\n",
            "training score: 1.0\n",
            "Validation accuracy after fine-tuning: 1.0\n",
            "Test accuracy after fine-tuning: 1.0\n",
            "Fold 3: Test accuracy: 1.0\n",
            "********************\n",
            "\n",
            "training score: 1.0\n",
            "Validation accuracy after fine-tuning: 1.0\n",
            "Test accuracy after fine-tuning: 1.0\n",
            "Fold 4: Test accuracy: 1.0\n",
            "********************\n",
            "\n"
          ]
        }
      ],
      "source": [
        "from sklearn.model_selection import KFold\n",
        "from sklearn.metrics import accuracy_score\n",
        "\n",
        "# Create a KFold object with k=4 folds\n",
        "kfold = KFold(n_splits=4, shuffle=True, random_state=30)\n",
        "\n",
        "# Loop over each fold\n",
        "for fold, (train_index, val_index) in enumerate(kfold.split(cancer_data)):\n",
        "    # Split data into training and validation sets\n",
        "    train_data = cancer_data.iloc[train_index]\n",
        "    val_data = cancer_data.iloc[val_index]\n",
        "\n",
        "    X_train = train_data.drop('Level', axis=1)\n",
        "    y_train = train_data['Level']\n",
        "    \n",
        "    # Evaluate model on validation data\n",
        "    X_val = val_data.drop('Level', axis=1)\n",
        "    y_val = val_data['Level']\n",
        "\n",
        "    # fine-tune and evaluate the performance of the model on training set\n",
        "    mlp.fit(X_train, y_train)\n",
        "    train_score=mlp.score(X_train, y_train)\n",
        "    print(\"training score:\",train_score)\n",
        "\n",
        "    \n",
        "    # fine-tune and evaluate the performance of the model on validation set\n",
        "    mlp.fit(X_val, y_val)\n",
        "    val_accuracy = mlp.score(X_val, y_val)\n",
        "    print(\"Validation accuracy after fine-tuning:\", val_accuracy)\n",
        "    \n",
        "    \n",
        "    # fine-tune and evaluate the performance of the model on the testing set\n",
        "    mlp.fit(X_test, y_test)\n",
        "    test_score = mlp.score(X_test, y_test)\n",
        "    print(\"Test accuracy after fine-tuning:\",test_score)\n",
        "    \n",
        "    \n",
        "    #Calculate the accuracy of the model predictions\n",
        "    test_accuracy = accuracy_score(y_test, y_pred)\n",
        "\n",
        "    print(\"Fold {}: Test accuracy: {}\".format(fold+1, test_accuracy))\n",
        "    print(\"********************\\n\")"
      ]
    },
    {
      "cell_type": "markdown",
      "metadata": {
        "id": "VpWCcCAos1qr"
      },
      "source": [
        "Measuring the Performance"
      ]
    },
    {
      "cell_type": "code",
      "execution_count": 33,
      "metadata": {
        "id": "LC1fPRMjs2Yn",
        "colab": {
          "base_uri": "https://localhost:8080/",
          "height": 883
        },
        "outputId": "118be102-84df-43b5-db5d-08daf3429253"
      },
      "outputs": [
        {
          "output_type": "stream",
          "name": "stdout",
          "text": [
            "Precision :  1.0\n",
            "Recall :  1.0\n",
            "Accuracy :  1.0\n",
            "F1 Score :  1.0\n",
            "\n",
            " [[102   0   0]\n",
            " [  0 105   0]\n",
            " [  0   0 123]]\n",
            "\n",
            "\n",
            "******************************************************\n",
            "                Classification Report\n",
            "******************************************************\n",
            "              precision    recall  f1-score   support\n",
            "\n",
            "           0       1.00      1.00      1.00       102\n",
            "           1       1.00      1.00      1.00       105\n",
            "           2       1.00      1.00      1.00       123\n",
            "\n",
            "    accuracy                           1.00       330\n",
            "   macro avg       1.00      1.00      1.00       330\n",
            "weighted avg       1.00      1.00      1.00       330\n",
            "\n",
            "******************************************************\n",
            "\n"
          ]
        },
        {
          "output_type": "display_data",
          "data": {
            "text/plain": [
              "<Figure size 640x480 with 2 Axes>"
            ],
            "image/png": "[encoded data removed]"
          },
          "metadata": {}
        }
      ],
      "source": [
        "from sklearn.metrics import precision_score, recall_score, accuracy_score, f1_score, confusion_matrix, ConfusionMatrixDisplay, classification_report\n",
        "def perform(y_pred):\n",
        "    print(\"Precision : \", precision_score(y_test, y_pred, average = 'micro'))\n",
        "    print(\"Recall : \", recall_score(y_test, y_pred, average = 'micro'))\n",
        "    print(\"Accuracy : \", accuracy_score(y_test, y_pred))\n",
        "    print(\"F1 Score : \", f1_score(y_test, y_pred, average = 'micro'))\n",
        "    cm = confusion_matrix(y_test, y_pred)\n",
        "    print(\"\\n\", cm)\n",
        "    print(\"\\n\")\n",
        "    print(\"**\"*27 + \"\\n\" + \" \"* 16 + \"Classification Report\\n\" + \"**\"*27)\n",
        "    print(classification_report(y_test, y_pred))\n",
        "    print(\"**\"*27+\"\\n\")\n",
        "    \n",
        "    cm = ConfusionMatrixDisplay(confusion_matrix = cm, display_labels=['Low', 'Medium', 'High'])\n",
        "    cm.plot()\n",
        "perform(y_pred)"
      ]
    },
    {
      "cell_type": "markdown",
      "metadata": {
        "id": "Sg_nPFcCvHXw"
      },
      "source": [
        "Plot ROC & AUC"
      ]
    },
    {
      "cell_type": "code",
      "execution_count": 34,
      "metadata": {
        "colab": {
          "base_uri": "https://localhost:8080/",
          "height": 472
        },
        "id": "19ZGK1IS_r5C",
        "outputId": "98040525-d1bd-4288-fc13-684f4f8f2e4f"
      },
      "outputs": [
        {
          "output_type": "display_data",
          "data": {
            "text/plain": [
              "<Figure size 640x480 with 1 Axes>"
            ],
            "image/png": "[encoded data removed]"
          },
          "metadata": {}
        }
      ],
      "source": [
        "from sklearn.preprocessing import LabelBinarizer\n",
        "from sklearn.metrics import roc_curve, auc\n",
        "\n",
        "# Convert the labels to a one-hot encoded binary matrix\n",
        "lb = LabelBinarizer()\n",
        "y_test_bin = lb.fit_transform(y_test)\n",
        " \n",
        "#Predict the probabilities for each class on the test data\n",
        "y_score = mlp.predict_proba(X_test)\n",
        "# Compute the ROC and AUC scores for each class\n",
        "fpr = dict()\n",
        "tpr = dict()\n",
        "roc_auc = dict()\n",
        "n_classes = y_test_bin.shape[1]\n",
        "for i in range(n_classes):\n",
        "    fpr[i], tpr[i], _ = roc_curve(y_test_bin[:, i], y_score[:, i])\n",
        "    roc_auc[i] = auc(fpr[i], tpr[i])\n",
        "\n",
        "# Plot the ROC curves\n",
        "plt.figure()\n",
        "colors = ['red', 'green', 'blue']\n",
        "for i, color in zip(range(n_classes), colors):\n",
        "    plt.plot(fpr[i], tpr[i], color=color, lw=2, label='ROC curve of class {0} (AUC = {1:0.2f})'.format(i, roc_auc[i]))\n",
        "plt.plot([0, 1], [0, 1], color='navy', lw=2, linestyle='--')\n",
        "plt.xlim([0.0, 1.0])\n",
        "plt.ylim([0.0, 1.05])\n",
        "plt.xlabel('False Positive Rate')\n",
        "plt.ylabel('True Positive Rate')\n",
        "plt.title('Receiver Operating Characteristic')\n",
        "plt.legend(loc='lower right')\n",
        "plt.show()"
      ]
    }
  ],
  "metadata": {
    "colab": {
      "provenance": []
    },
    "kernelspec": {
      "display_name": "Python 3",
      "name": "python3"
    },
    "language_info": {
      "name": "python"
    }
  },
  "nbformat": 4,
  "nbformat_minor": 0
}
